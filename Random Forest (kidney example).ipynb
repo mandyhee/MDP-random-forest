{
 "cells": [
  {
   "cell_type": "markdown",
   "metadata": {},
   "source": [
    "## Chronic Kidney disease (CKD): Random forest\n",
    "Members: Meng-Ni Ho, Liying Chen, Mufei Chen, Catharine Zhang\n",
    "#### Number of Instances:  400 (250 CKD, 150 non-ckd)\n",
    "#### Number of Attributes: 24 + class = 25 (11 numeric,14 nominal) \n",
    "#### Attribute Information :\n",
    "    1. Age(numerical): age in years\n",
    "    2. Blood Pressure(numerical): bp in mm/Hg\n",
    "    3. Specific Gravity(nominal): sg - (1.005,1.010,1.015,1.020,1.025)\n",
    "    4. Albumin(nominal): al - (0,1,2,3,4,5)\n",
    "    5. Sugar(nominal): su - (0,1,2,3,4,5)\n",
    "    6. Red Blood Cells(nominal): rbc - (normal = 0,abnormal = 1)\n",
    "    7.Pus Cell (nominal): pc - (normal = 0,abnormal = 1)\n",
    "    8.Pus Cell clumps(nominal): pcc - (present = 1,notpresent = 0)\n",
    "    9.Bacteria(nominal): ba  - (present = 1,notpresent = 0)\n",
    "    10.Blood Glucose Random(numerical): bgr in mgs/dl\n",
    "    11.Blood Urea(numerical): bu in mgs/dl\n",
    "    12.Serum Creatinine(numerical): sc in mgs/dl\n",
    "    13.Sodium(numerical): sod in mEq/L\n",
    "    14.Potassium(numerical): pot in mEq/L\n",
    "    15.Hemoglobin(numerical): hemo in gms\n",
    "    16.Packed  Cell Volume(numerical)\n",
    "    17.White Blood Cell Count(numerical): wc in cells/cumm\n",
    "    18.Red Blood Cell Count(numerical): rc in millions/cmm\n",
    "    19.Hypertension(nominal): htn - (yes = 1, no = 0)\n",
    "    20.Diabetes Mellitus(nominal): dm - (yes = 1,no = 0)\n",
    "    21.Coronary Artery Disease(nominal): cad - (yes = 1,no = 0)\n",
    "    22.Appetite(nominal): appet\t - (good = 1, poor = 0)\n",
    "    23.Pedal Edema(nominal): pe - (yes = 1, no = 0)\t\n",
    "    24.Anemia(nominal): ane\t- (yes = 1,no = 0)\n",
    "    25.Class (nominal): class - (ckd = 1, notckd = 0)\n",
    "#### Objective: Prediction of CKD using random forest.    \n",
    "#### Resource: UCI machine learning repository"
   ]
  },
  {
   "cell_type": "markdown",
   "metadata": {},
   "source": [
    "### Step 1: Data cleaning, missing value imputation: replace all the NaN with median"
   ]
  },
  {
   "cell_type": "code",
   "execution_count": 14,
   "metadata": {},
   "outputs": [
    {
     "data": {
      "text/html": [
       "<div>\n",
       "<style scoped>\n",
       "    .dataframe tbody tr th:only-of-type {\n",
       "        vertical-align: middle;\n",
       "    }\n",
       "\n",
       "    .dataframe tbody tr th {\n",
       "        vertical-align: top;\n",
       "    }\n",
       "\n",
       "    .dataframe thead th {\n",
       "        text-align: right;\n",
       "    }\n",
       "</style>\n",
       "<table border=\"1\" class=\"dataframe\">\n",
       "  <thead>\n",
       "    <tr style=\"text-align: right;\">\n",
       "      <th></th>\n",
       "      <th>age</th>\n",
       "      <th>blood pressure</th>\n",
       "      <th>specific gravity</th>\n",
       "      <th>albumin</th>\n",
       "      <th>sugar</th>\n",
       "      <th>rbc</th>\n",
       "      <th>pus cell</th>\n",
       "      <th>pus cell clumps</th>\n",
       "      <th>bacteric</th>\n",
       "      <th>blood glucose random</th>\n",
       "      <th>...</th>\n",
       "      <th>packed cell volume</th>\n",
       "      <th>wbc count</th>\n",
       "      <th>rbc count</th>\n",
       "      <th>hypertension</th>\n",
       "      <th>diabetes mellitus</th>\n",
       "      <th>coronary artery disease</th>\n",
       "      <th>appetite</th>\n",
       "      <th>pedal edema</th>\n",
       "      <th>anemia</th>\n",
       "      <th>class</th>\n",
       "    </tr>\n",
       "  </thead>\n",
       "  <tbody>\n",
       "    <tr>\n",
       "      <th>0</th>\n",
       "      <td>48.0</td>\n",
       "      <td>80.0</td>\n",
       "      <td>1.020</td>\n",
       "      <td>1.0</td>\n",
       "      <td>0.0</td>\n",
       "      <td>NaN</td>\n",
       "      <td>0.0</td>\n",
       "      <td>0.0</td>\n",
       "      <td>0.0</td>\n",
       "      <td>121.0</td>\n",
       "      <td>...</td>\n",
       "      <td>44.0</td>\n",
       "      <td>7800.0</td>\n",
       "      <td>5.2</td>\n",
       "      <td>1.0</td>\n",
       "      <td>1.0</td>\n",
       "      <td>0.0</td>\n",
       "      <td>1.0</td>\n",
       "      <td>0.0</td>\n",
       "      <td>0.0</td>\n",
       "      <td>1</td>\n",
       "    </tr>\n",
       "    <tr>\n",
       "      <th>1</th>\n",
       "      <td>7.0</td>\n",
       "      <td>50.0</td>\n",
       "      <td>1.020</td>\n",
       "      <td>4.0</td>\n",
       "      <td>0.0</td>\n",
       "      <td>NaN</td>\n",
       "      <td>0.0</td>\n",
       "      <td>0.0</td>\n",
       "      <td>0.0</td>\n",
       "      <td>NaN</td>\n",
       "      <td>...</td>\n",
       "      <td>38.0</td>\n",
       "      <td>6000.0</td>\n",
       "      <td>NaN</td>\n",
       "      <td>0.0</td>\n",
       "      <td>0.0</td>\n",
       "      <td>0.0</td>\n",
       "      <td>1.0</td>\n",
       "      <td>0.0</td>\n",
       "      <td>0.0</td>\n",
       "      <td>1</td>\n",
       "    </tr>\n",
       "    <tr>\n",
       "      <th>2</th>\n",
       "      <td>62.0</td>\n",
       "      <td>80.0</td>\n",
       "      <td>1.010</td>\n",
       "      <td>2.0</td>\n",
       "      <td>3.0</td>\n",
       "      <td>0.0</td>\n",
       "      <td>0.0</td>\n",
       "      <td>0.0</td>\n",
       "      <td>0.0</td>\n",
       "      <td>423.0</td>\n",
       "      <td>...</td>\n",
       "      <td>31.0</td>\n",
       "      <td>7500.0</td>\n",
       "      <td>NaN</td>\n",
       "      <td>0.0</td>\n",
       "      <td>1.0</td>\n",
       "      <td>0.0</td>\n",
       "      <td>0.0</td>\n",
       "      <td>0.0</td>\n",
       "      <td>1.0</td>\n",
       "      <td>1</td>\n",
       "    </tr>\n",
       "    <tr>\n",
       "      <th>3</th>\n",
       "      <td>48.0</td>\n",
       "      <td>70.0</td>\n",
       "      <td>1.005</td>\n",
       "      <td>4.0</td>\n",
       "      <td>0.0</td>\n",
       "      <td>0.0</td>\n",
       "      <td>1.0</td>\n",
       "      <td>1.0</td>\n",
       "      <td>0.0</td>\n",
       "      <td>117.0</td>\n",
       "      <td>...</td>\n",
       "      <td>32.0</td>\n",
       "      <td>6700.0</td>\n",
       "      <td>3.9</td>\n",
       "      <td>1.0</td>\n",
       "      <td>0.0</td>\n",
       "      <td>0.0</td>\n",
       "      <td>0.0</td>\n",
       "      <td>1.0</td>\n",
       "      <td>1.0</td>\n",
       "      <td>1</td>\n",
       "    </tr>\n",
       "    <tr>\n",
       "      <th>4</th>\n",
       "      <td>51.0</td>\n",
       "      <td>80.0</td>\n",
       "      <td>1.010</td>\n",
       "      <td>2.0</td>\n",
       "      <td>0.0</td>\n",
       "      <td>0.0</td>\n",
       "      <td>0.0</td>\n",
       "      <td>0.0</td>\n",
       "      <td>0.0</td>\n",
       "      <td>106.0</td>\n",
       "      <td>...</td>\n",
       "      <td>35.0</td>\n",
       "      <td>7300.0</td>\n",
       "      <td>4.6</td>\n",
       "      <td>0.0</td>\n",
       "      <td>0.0</td>\n",
       "      <td>0.0</td>\n",
       "      <td>1.0</td>\n",
       "      <td>0.0</td>\n",
       "      <td>0.0</td>\n",
       "      <td>1</td>\n",
       "    </tr>\n",
       "  </tbody>\n",
       "</table>\n",
       "<p>5 rows × 25 columns</p>\n",
       "</div>"
      ],
      "text/plain": [
       "    age  blood pressure  specific gravity  albumin  sugar  rbc  pus cell  \\\n",
       "0  48.0            80.0             1.020      1.0    0.0  NaN       0.0   \n",
       "1   7.0            50.0             1.020      4.0    0.0  NaN       0.0   \n",
       "2  62.0            80.0             1.010      2.0    3.0  0.0       0.0   \n",
       "3  48.0            70.0             1.005      4.0    0.0  0.0       1.0   \n",
       "4  51.0            80.0             1.010      2.0    0.0  0.0       0.0   \n",
       "\n",
       "   pus cell clumps  bacteric  blood glucose random  ...  packed cell volume  \\\n",
       "0              0.0       0.0                 121.0  ...                44.0   \n",
       "1              0.0       0.0                   NaN  ...                38.0   \n",
       "2              0.0       0.0                 423.0  ...                31.0   \n",
       "3              1.0       0.0                 117.0  ...                32.0   \n",
       "4              0.0       0.0                 106.0  ...                35.0   \n",
       "\n",
       "   wbc count  rbc count  hypertension  diabetes mellitus  \\\n",
       "0     7800.0        5.2           1.0                1.0   \n",
       "1     6000.0        NaN           0.0                0.0   \n",
       "2     7500.0        NaN           0.0                1.0   \n",
       "3     6700.0        3.9           1.0                0.0   \n",
       "4     7300.0        4.6           0.0                0.0   \n",
       "\n",
       "   coronary artery disease  appetite  pedal edema  anemia  class  \n",
       "0                      0.0       1.0          0.0     0.0      1  \n",
       "1                      0.0       1.0          0.0     0.0      1  \n",
       "2                      0.0       0.0          0.0     1.0      1  \n",
       "3                      0.0       0.0          1.0     1.0      1  \n",
       "4                      0.0       1.0          0.0     0.0      1  \n",
       "\n",
       "[5 rows x 25 columns]"
      ]
     },
     "execution_count": 14,
     "metadata": {},
     "output_type": "execute_result"
    }
   ],
   "source": [
    "import pandas as pd\n",
    "features = pd.read_csv('kidney.csv')\n",
    "# fill all the NA with median\n",
    "#features = features.apply(lambda x: x.fillna(x.median()),axis=0)\n",
    "features.head(5)"
   ]
  },
  {
   "cell_type": "code",
   "execution_count": null,
   "metadata": {},
   "outputs": [],
   "source": [
    "from sklearn.preprocessing import Imputer\n",
    "imputer = Imputer(missing_values='NaN', strategy='median', axis=0)\n",
    "imputer = imputer.fit(features)\n",
    "features = imputer.transform(features)"
   ]
  },
  {
   "cell_type": "markdown",
   "metadata": {},
   "source": [
    "### Step 2: Split data to training set and testing set"
   ]
  },
  {
   "cell_type": "code",
   "execution_count": 2,
   "metadata": {},
   "outputs": [],
   "source": [
    "# Labels are the values we want to predict\n",
    "labels = features[:,24]\n",
    "# Remove the labels from the kidney data\n",
    "features_drop = features[:,:24]"
   ]
  },
  {
   "cell_type": "code",
   "execution_count": 3,
   "metadata": {},
   "outputs": [],
   "source": [
    "# Using Skicit-learn to split data into training and testing sets\n",
    "from sklearn.model_selection import train_test_split\n",
    "# Split the data into training and testing sets\n",
    "train_features, test_features, train_labels, test_labels = train_test_split(features, labels, test_size = 0.4, random_state = 42)"
   ]
  },
  {
   "cell_type": "code",
   "execution_count": 4,
   "metadata": {},
   "outputs": [
    {
     "name": "stdout",
     "output_type": "stream",
     "text": [
      "Training Features Shape: (240, 25)\n",
      "Training Labels Shape: (240,)\n",
      "Testing Features Shape: (160, 25)\n",
      "Testing Labels Shape: (160,)\n"
     ]
    }
   ],
   "source": [
    "print('Training Features Shape:', train_features.shape)\n",
    "print('Training Labels Shape:', train_labels.shape)\n",
    "print('Testing Features Shape:', test_features.shape)\n",
    "print('Testing Labels Shape:', test_labels.shape)"
   ]
  },
  {
   "cell_type": "markdown",
   "metadata": {},
   "source": [
    "### Step 3: Build the model with `RandomForestClassifier` using training set\n",
    "#### set `bootstrap = True` to expand the samples in order to converge predictions to 0 and 1"
   ]
  },
  {
   "cell_type": "code",
   "execution_count": 7,
   "metadata": {},
   "outputs": [
    {
     "data": {
      "text/plain": [
       "RandomForestClassifier(bootstrap=True, class_weight=None, criterion='gini',\n",
       "            max_depth=None, max_features='sqrt', max_leaf_nodes=None,\n",
       "            min_impurity_decrease=0.0, min_impurity_split=None,\n",
       "            min_samples_leaf=1, min_samples_split=2,\n",
       "            min_weight_fraction_leaf=0.0, n_estimators=500, n_jobs=None,\n",
       "            oob_score=False, random_state=None, verbose=0,\n",
       "            warm_start=False)"
      ]
     },
     "execution_count": 7,
     "metadata": {},
     "output_type": "execute_result"
    }
   ],
   "source": [
    "from sklearn.ensemble import RandomForestClassifier\n",
    "\n",
    "# Create the model with 100 trees\n",
    "model = RandomForestClassifier(n_estimators=500, \n",
    "                               bootstrap = True,\n",
    "                               max_features = 'sqrt')\n",
    "# Fit on training data\n",
    "model.fit(train_features, train_labels)\n",
    "\n",
    "# Import the model we are using\n",
    "# from sklearn.ensemble import RandomForestRegressor\n",
    "# Instantiate model with 500 decision trees\n",
    "# rf = RandomForestRegressor(n_estimators = 500, random_state = 42)\n",
    "# Train the model on training data\n",
    "# rf.fit(train_features, train_labels)"
   ]
  },
  {
   "cell_type": "markdown",
   "metadata": {},
   "source": [
    "### Step 4: Fit the model on testing set"
   ]
  },
  {
   "cell_type": "markdown",
   "metadata": {},
   "source": [
    "##### The predicted labels from model, the results will converge to 0 and 1. "
   ]
  },
  {
   "cell_type": "code",
   "execution_count": 18,
   "metadata": {},
   "outputs": [
    {
     "name": "stdout",
     "output_type": "stream",
     "text": [
      "[1. 0. 1. 1. 1. 1. 0. 1. 0. 1. 1. 0. 1. 1. 1. 1. 0. 0. 1. 0. 1. 1. 0. 0.\n",
      " 1. 0. 1. 1. 0. 1. 0. 1. 0. 1. 1. 1. 1. 0. 1. 1. 0. 1. 1. 1. 1. 0. 1. 1.\n",
      " 1. 1. 1. 0. 0. 1. 0. 1. 1. 1. 1. 1. 1. 0. 0. 1. 1. 1. 0. 0. 0. 1. 0. 1.\n",
      " 1. 1. 0. 1. 1. 0. 1. 0. 1. 1. 1. 0. 0. 1. 1. 0. 1. 1. 1. 0. 1. 1. 1. 0.\n",
      " 0. 0. 1. 1. 1. 1. 1. 1. 1. 1. 1. 1. 0. 0. 1. 0. 0. 0. 0. 1. 1. 0. 0. 0.\n",
      " 1. 1. 1. 0. 1. 1. 0. 0. 1. 1. 0. 1. 0. 1. 1. 1. 1. 0. 1. 0. 1. 1. 0. 1.\n",
      " 1. 0. 1. 1. 1. 0. 1. 0. 0. 1. 1. 1. 1. 1. 0. 0.]\n"
     ]
    }
   ],
   "source": [
    "# Use the forest's predict method on the test data\n",
    "predictions = model.predict(test_features)\n",
    "print(predictions)"
   ]
  },
  {
   "cell_type": "markdown",
   "metadata": {},
   "source": [
    "##### Original predicted results, before convergence. Results close to 0 (ex. 0.002) will converge to 0, close to 1 (ex. 0.952) will converge to 1."
   ]
  },
  {
   "cell_type": "code",
   "execution_count": 19,
   "metadata": {},
   "outputs": [
    {
     "name": "stdout",
     "output_type": "stream",
     "text": [
      "[0.952 0.    1.    1.    1.    0.996 0.    0.996 0.014 1.    0.998 0.004\n",
      " 1.    1.    0.998 0.978 0.    0.002 1.    0.    1.    0.996 0.    0.\n",
      " 0.838 0.002 0.994 1.    0.002 1.    0.004 0.986 0.01  0.996 1.    0.952\n",
      " 1.    0.002 0.998 1.    0.026 0.996 0.998 0.982 0.978 0.    0.998 0.968\n",
      " 0.976 0.968 0.978 0.01  0.006 0.97  0.032 0.998 0.996 0.982 0.99  0.978\n",
      " 0.998 0.054 0.002 1.    0.996 0.994 0.    0.002 0.026 1.    0.    0.95\n",
      " 0.974 1.    0.    0.996 1.    0.08  0.992 0.    0.998 0.96  1.    0.012\n",
      " 0.012 1.    1.    0.    0.938 0.988 0.936 0.002 0.99  0.988 1.    0.\n",
      " 0.    0.006 0.992 0.952 0.92  0.988 0.992 0.998 1.    0.968 0.994 0.998\n",
      " 0.006 0.002 0.968 0.016 0.002 0.    0.    0.998 0.99  0.012 0.004 0.002\n",
      " 0.98  1.    0.992 0.    0.994 0.996 0.058 0.    0.724 0.996 0.    1.\n",
      " 0.002 0.994 0.982 0.994 0.994 0.    0.962 0.008 1.    0.996 0.002 0.992\n",
      " 0.998 0.004 1.    1.    0.974 0.006 1.    0.002 0.03  0.904 0.998 0.936\n",
      " 1.    0.998 0.    0.016]\n"
     ]
    }
   ],
   "source": [
    "rf_probs = model.predict_proba(test_features)[:,1]\n",
    "print(rf_probs)"
   ]
  },
  {
   "cell_type": "markdown",
   "metadata": {},
   "source": [
    "### Step 5: Calculate the accuracy with confusion matrix\n",
    "\n",
    "* Confusion matrix is a way to calculate accuracy for classification.\n",
    "* A confusion matrix is a summary of prediction results on a classification problem.\n",
    "* The number of correct and incorrect predictions are summarized with count values and broken down by each class. \n",
    "\n",
    "![](Confusion_Matrix1_1.png)\n",
    "* Class 1 : Positive  \n",
    "* Class 2 : Negative  \n",
    "\n",
    "#### Definition of the Terms:  \n",
    "* Positive (P) : Observation is positive (for example: is an apple).  \n",
    "* Negative (N) : Observation is not positive (for example: is not an apple).  \n",
    "* True Positive (TP) : Observation is positive, and is predicted to be positive.  \n",
    "* False Negative (FN) : Observation is positive, but is predicted negative.  \n",
    "* True Negative (TN) : Observation is negative, and is predicted to be negative.  \n",
    "* False Positive (FP) : Observation is negative, but is predicted positive.  \n",
    "\n",
    "#### Classification Rate/Accuracy:  \n",
    "Classification Rate or Accuracy is given by the relation:\n",
    "![](Confusion_Matrix2_2.png)\n",
    "Resource: https://www.geeksforgeeks.org/confusion-matrix-machine-learning/"
   ]
  },
  {
   "cell_type": "code",
   "execution_count": 20,
   "metadata": {},
   "outputs": [
    {
     "name": "stdout",
     "output_type": "stream",
     "text": [
      "Confusion Matrix :\n",
      "[[ 58   0]\n",
      " [  0 102]]\n",
      "Accuracy Score : 1.0\n",
      "Report : \n",
      "              precision    recall  f1-score   support\n",
      "\n",
      "         0.0       1.00      1.00      1.00        58\n",
      "         1.0       1.00      1.00      1.00       102\n",
      "\n",
      "   micro avg       1.00      1.00      1.00       160\n",
      "   macro avg       1.00      1.00      1.00       160\n",
      "weighted avg       1.00      1.00      1.00       160\n",
      "\n"
     ]
    }
   ],
   "source": [
    "from sklearn.metrics import confusion_matrix \n",
    "from sklearn.metrics import accuracy_score \n",
    "from sklearn.metrics import classification_report \n",
    "\n",
    "results = confusion_matrix(test_labels, predictions) \n",
    "print('Confusion Matrix :') \n",
    "print(results) \n",
    "print('Accuracy Score :',accuracy_score(test_labels, predictions))\n",
    "print('Report : ') \n",
    "print(classification_report(test_labels, predictions)) "
   ]
  }
 ],
 "metadata": {
  "kernelspec": {
   "display_name": "Python 3",
   "language": "python",
   "name": "python3"
  },
  "language_info": {
   "codemirror_mode": {
    "name": "ipython",
    "version": 3
   },
   "file_extension": ".py",
   "mimetype": "text/x-python",
   "name": "python",
   "nbconvert_exporter": "python",
   "pygments_lexer": "ipython3",
   "version": "3.7.2"
  }
 },
 "nbformat": 4,
 "nbformat_minor": 2
}
